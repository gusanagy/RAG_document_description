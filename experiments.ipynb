{
 "cells": [
  {
   "cell_type": "markdown",
   "id": "cff13d78",
   "metadata": {},
   "source": [
    "# RAG \n",
    "\n"
   ]
  },
  {
   "cell_type": "markdown",
   "id": "d38ee9a8",
   "metadata": {},
   "source": [
    "## Dados - Livros\n",
    "\n",
    "download books: https://drive.google.com/drive/folders/1yhocUZ1cGfZiBg63hBlH8mXe2oHXYRuT?usp=sharing\n",
    "\n",
    "Estrutura:\n",
    "```\n",
    "books-rag/\n",
    "├── raw/                         # originais (NÃO edite)\n",
    "│   ├── pdf/\n",
    "│   └── epub/\n",
    "├── working/                     # intermediários\n",
    "│   ├── converted/               # md/txt por capítulo ou seção\n",
    "│   ├── ocr/                     # PDFs escaneados corrigidos\n",
    "│   └── manifests/               # CSV/JSON com inventário e status\n",
    "├── corpus/                      # texto limpo + chunks com metadados\n",
    "│   ├── jsonl/                   # um chunk por linha\n",
    "│   └── parquet/                 # (opcional) rápido p/ análise\n",
    "├── index/                       # índices de busca\n",
    "│   ├── faiss/\n",
    "│   └── bm25/\n",
    "└── evaluation/                  # perguntas, gabaritos, logs"
   ]
  },
  {
   "cell_type": "markdown",
   "id": "4e0a0c68",
   "metadata": {},
   "source": [
    "### Extract Book Data"
   ]
  },
  {
   "cell_type": "code",
   "execution_count": 13,
   "id": "40fd9507",
   "metadata": {},
   "outputs": [
    {
     "name": "stdout",
     "output_type": "stream",
     "text": [
      "Books-20251007T165548Z-1-001\t  books_rag\t     README.md\n",
      "Books-20251007T165548Z-1-001.zip  experiments.ipynb  src\n"
     ]
    }
   ],
   "source": [
    "!ls"
   ]
  },
  {
   "cell_type": "code",
   "execution_count": null,
   "id": "1e76b8ec",
   "metadata": {},
   "outputs": [
    {
     "name": "stdout",
     "output_type": "stream",
     "text": [
      "Encontrados: 18 PDF(s) em /home/pdi_4/Documents/Documentos/rag/books_rag/raw/pdf\n",
      "Encontrados: 6 EPUB(s) em /home/pdi_4/Documents/Documentos/rag/books_rag/raw/epub\n",
      "Chunking PDF Dorothy R. Kirk - Deciphering Object-Oriented Programming with C++ \n"
     ]
    }
   ],
   "source": [
    "!python src/extract_book_data.py \\\n",
    "  --root \"/home/pdi_4/Documents/Documentos/rag/books_rag\" \\\n",
    "  --pdf_dir \"/home/pdi_4/Documents/Documentos/rag/books_rag/raw/pdf\" \\\n",
    "  --epub_dir \"/home/pdi_4/Documents/Documentos/rag/books_rag/raw/epub\"\n"
   ]
  },
  {
   "cell_type": "code",
   "execution_count": null,
   "id": "023c832b",
   "metadata": {},
   "outputs": [],
   "source": []
  },
  {
   "cell_type": "markdown",
   "id": "e2c6e02b",
   "metadata": {},
   "source": [
    "## Tipo de RAG"
   ]
  },
  {
   "cell_type": "markdown",
   "id": "ac694c67",
   "metadata": {},
   "source": []
  }
 ],
 "metadata": {
  "kernelspec": {
   "display_name": "rag_book",
   "language": "python",
   "name": "python3"
  },
  "language_info": {
   "codemirror_mode": {
    "name": "ipython",
    "version": 3
   },
   "file_extension": ".py",
   "mimetype": "text/x-python",
   "name": "python",
   "nbconvert_exporter": "python",
   "pygments_lexer": "ipython3",
   "version": "3.11.9"
  }
 },
 "nbformat": 4,
 "nbformat_minor": 5
}
