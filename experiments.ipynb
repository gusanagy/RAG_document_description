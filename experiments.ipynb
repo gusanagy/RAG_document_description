{
 "cells": [
  {
   "cell_type": "markdown",
   "id": "cff13d78",
   "metadata": {},
   "source": [
    "# RAG \n",
    "\n"
   ]
  },
  {
   "cell_type": "markdown",
   "id": "d38ee9a8",
   "metadata": {},
   "source": [
    "## Dados - Livros\n",
    "\n",
    "download books: https://drive.google.com/drive/folders/1yhocUZ1cGfZiBg63hBlH8mXe2oHXYRuT?usp=sharing\n",
    "\n",
    "Estrutura:\n",
    "```\n",
    "books-rag/\n",
    "├── raw/                         # originais (NÃO edite)\n",
    "│   ├── pdf/\n",
    "│   └── epub/\n",
    "├── working/                     # intermediários\n",
    "│   ├── converted/               # md/txt por capítulo ou seção\n",
    "│   ├── ocr/                     # PDFs escaneados corrigidos\n",
    "│   └── manifests/               # CSV/JSON com inventário e status\n",
    "├── corpus/                      # texto limpo + chunks com metadados\n",
    "│   ├── jsonl/                   # um chunk por linha\n",
    "│   └── parquet/                 # (opcional) rápido p/ análise\n",
    "├── index/                       # índices de busca\n",
    "│   ├── faiss/\n",
    "│   └── bm25/\n",
    "└── evaluation/                  # perguntas, gabaritos, logs"
   ]
  },
  {
   "cell_type": "markdown",
   "id": "4e0a0c68",
   "metadata": {},
   "source": [
    "### Extract Book Data"
   ]
  },
  {
   "cell_type": "code",
   "execution_count": 13,
   "id": "40fd9507",
   "metadata": {},
   "outputs": [
    {
     "name": "stdout",
     "output_type": "stream",
     "text": [
      "Books-20251007T165548Z-1-001\t  books_rag\t     README.md\n",
      "Books-20251007T165548Z-1-001.zip  experiments.ipynb  src\n"
     ]
    }
   ],
   "source": [
    "!ls"
   ]
  },
  {
   "cell_type": "code",
   "execution_count": null,
   "id": "1e76b8ec",
   "metadata": {},
   "outputs": [
    {
     "name": "stdout",
     "output_type": "stream",
     "text": [
      "Traceback (most recent call last):\n",
      "  File \"/home/pdi_4/anaconda3/envs/rag_book/lib/python3.11/pathlib.py\", line 1116, in mkdir\n",
      "    os.mkdir(self, mode)\n",
      "FileNotFoundError: [Errno 2] No such file or directory: '/home/books_rag/corpus/jsonl'\n",
      "\n",
      "During handling of the above exception, another exception occurred:\n",
      "\n",
      "Traceback (most recent call last):\n",
      "  File \"/home/pdi_4/anaconda3/envs/rag_book/lib/python3.11/pathlib.py\", line 1116, in mkdir\n",
      "    os.mkdir(self, mode)\n",
      "FileNotFoundError: [Errno 2] No such file or directory: '/home/books_rag/corpus'\n",
      "\n",
      "During handling of the above exception, another exception occurred:\n",
      "\n",
      "Traceback (most recent call last):\n",
      "  File \"/home/pdi_4/Documents/Documentos/rag/src/extract_book_data.py\", line 304, in <module>\n",
      "    main()\n",
      "  File \"/home/pdi_4/Documents/Documentos/rag/src/extract_book_data.py\", line 267, in main\n",
      "    ensure_writable_dir(out_dir)\n",
      "  File \"/home/pdi_4/Documents/Documentos/rag/src/extract_book_data.py\", line 48, in ensure_writable_dir\n",
      "    path.mkdir(parents=True, exist_ok=True)\n",
      "  File \"/home/pdi_4/anaconda3/envs/rag_book/lib/python3.11/pathlib.py\", line 1120, in mkdir\n",
      "    self.parent.mkdir(parents=True, exist_ok=True)\n",
      "  File \"/home/pdi_4/anaconda3/envs/rag_book/lib/python3.11/pathlib.py\", line 1120, in mkdir\n",
      "    self.parent.mkdir(parents=True, exist_ok=True)\n",
      "  File \"/home/pdi_4/anaconda3/envs/rag_book/lib/python3.11/pathlib.py\", line 1116, in mkdir\n",
      "    os.mkdir(self, mode)\n",
      "PermissionError: [Errno 13] Permission denied: '/home/books_rag'\n"
     ]
    }
   ],
   "source": [
    "!python src/extract_book_data.py \\\n",
    "  --root \"../books_rag\" \\\n",
    "  --pdf_dir  \"../books_rag/raw/epub\" \\\n",
    "  --epub_dir \"../books_rag/raw/pdf\"\n"
   ]
  },
  {
   "cell_type": "code",
   "execution_count": null,
   "id": "023c832b",
   "metadata": {},
   "outputs": [],
   "source": []
  },
  {
   "cell_type": "markdown",
   "id": "e2c6e02b",
   "metadata": {},
   "source": [
    "## Tipo de RAG"
   ]
  },
  {
   "cell_type": "markdown",
   "id": "ac694c67",
   "metadata": {},
   "source": []
  }
 ],
 "metadata": {
  "kernelspec": {
   "display_name": "rag_book",
   "language": "python",
   "name": "python3"
  },
  "language_info": {
   "codemirror_mode": {
    "name": "ipython",
    "version": 3
   },
   "file_extension": ".py",
   "mimetype": "text/x-python",
   "name": "python",
   "nbconvert_exporter": "python",
   "pygments_lexer": "ipython3",
   "version": "3.11.9"
  }
 },
 "nbformat": 4,
 "nbformat_minor": 5
}
