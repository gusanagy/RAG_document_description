{
 "cells": [
  {
   "cell_type": "markdown",
   "id": "cff13d78",
   "metadata": {},
   "source": [
    "# RAG \n",
    "\n",
    "download books: https://drive.google.com/drive/folders/1yhocUZ1cGfZiBg63hBlH8mXe2oHXYRuT?usp=sharing\n",
    "\n",
    "Estrutura:\n",
    "```\n",
    "books-rag/\n",
    "├── raw/                         # originais (NÃO edite)\n",
    "│   ├── pdf/\n",
    "│   └── epub/\n",
    "├── working/                     # intermediários\n",
    "│   ├── converted/               # md/txt por capítulo ou seção\n",
    "│   ├── ocr/                     # PDFs escaneados corrigidos\n",
    "│   └── manifests/               # CSV/JSON com inventário e status\n",
    "├── corpus/                      # texto limpo + chunks com metadados\n",
    "│   ├── jsonl/                   # um chunk por linha\n",
    "│   └── parquet/                 # (opcional) rápido p/ análise\n",
    "├── index/                       # índices de busca\n",
    "│   ├── faiss/\n",
    "│   └── bm25/\n",
    "└── evaluation/                  # perguntas, gabaritos, logs\n",
    "```\n"
   ]
  },
  {
   "cell_type": "code",
   "execution_count": null,
   "id": "1e76b8ec",
   "metadata": {},
   "outputs": [],
   "source": []
  }
 ],
 "metadata": {
  "kernelspec": {
   "display_name": "Python 3",
   "language": "python",
   "name": "python3"
  },
  "language_info": {
   "name": "python",
   "version": "3.10.12"
  }
 },
 "nbformat": 4,
 "nbformat_minor": 5
}
